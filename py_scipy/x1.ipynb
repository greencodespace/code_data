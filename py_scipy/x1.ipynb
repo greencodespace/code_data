{
 "cells": [
  {
   "cell_type": "code",
   "execution_count": 2,
   "metadata": {},
   "outputs": [],
   "source": [
    "from numpy import *\n",
    "from scipy import *\n",
    "import numpy as np\n",
    "import h5py\n",
    "import os\n",
    "#os.chdir('c:/tmp/');"
   ]
  },
  {
   "cell_type": "raw",
   "metadata": {},
   "source": []
  },
  {
   "cell_type": "code",
   "execution_count": 5,
   "metadata": {},
   "outputs": [],
   "source": []
  },
  {
   "cell_type": "raw",
   "metadata": {},
   "source": [
    "import pandas as pd\n",
    "import seaborn as sns\n",
    "import matplotlib.pyplot as plt\n",
    "import numpy\n",
    "import tensorflow as tf\n",
    "\n",
    "from keras.models import Sequential\n",
    "from keras.layers.core import Dense\n",
    "from keras.utils import np_utils\n",
    "from sklearn.preprocessing import LabelEncoder\n",
    "\n"
   ]
  },
  {
   "cell_type": "code",
   "execution_count": 3,
   "metadata": {},
   "outputs": [],
   "source": [
    "\n",
    "\n"
   ]
  },
  {
   "cell_type": "raw",
   "metadata": {},
   "source": [
    "fpath='c:/tmp/mymatrix1.h5'\n",
    "f=h5py.File(fpath,'r')\n",
    "\n",
    "print(f)"
   ]
  },
  {
   "cell_type": "code",
   "execution_count": 16,
   "metadata": {},
   "outputs": [],
   "source": [
    "#aA=np.fromfile(fpath,dtype=float)\n",
    "#print(aA)"
   ]
  },
  {
   "cell_type": "raw",
   "metadata": {},
   "source": [
    "import tensorflow as tf\n",
    "from keras.utils.io_utils import HDF5Matrix\n",
    "aA=HDF5Matrix(fpath)"
   ]
  },
  {
   "cell_type": "raw",
   "metadata": {},
   "source": [
    "import scipy.io as sio\n",
    "import pandas as pd\n",
    "ps0210=pd.read_csv('c:/tmp/excel_ps-02-10.csv',sep=',',header=None)\n",
    "ps0216=pd.read_csv('c:/tmp/excel_ps-02-16.csv',sep=',',header=None)\n",
    "ps0312=pd.read_csv('c:/tmp/excel_ps-03-12.csv',sep=',',header=None)\n",
    "ps0513=pd.read_csv('c:/tmp/excel_ps-05-13.csv',sep=',',header=None)\n",
    "ps0514=pd.read_csv('c:/tmp/excel_ps-05-14.csv',sep=',',header=None)\n",
    "ps0708=pd.read_csv('c:/tmp/excel_ps-07-08.csv',sep=',',header=None)\n",
    "ps0910=pd.read_csv('c:/tmp/excel_ps-09-10.csv',sep=',',header=None)\n",
    "ps0911=pd.read_csv('c:/tmp/excel_ps-09-11.csv',sep=',',header=None)\n",
    "ps0912=pd.read_csv('c:/tmp/excel_ps-09-12.csv',sep=',',header=None)\n",
    "ps0915=pd.read_csv('c:/tmp/excel_ps-09-15.csv',sep=',',header=None)\n",
    "ps1012=pd.read_csv('c:/tmp/excel_ps-10-12.csv',sep=',',header=None)\n",
    "ps1015=pd.read_csv('c:/tmp/excel_ps-10-15.csv',sep=',',header=None)\n",
    "print(ps0210)\n",
    "dData={\n",
    "'ps0210':  ps0210,\n",
    "'ps0216':  ps0216,\n",
    "'ps0312':  ps0312,\n",
    "'ps0513':  ps0513,\n",
    "'ps0514':  ps0514,\n",
    "'ps0708':  ps0708,\n",
    "'ps0910':  ps0910,\n",
    "'ps0911':  ps0911,\n",
    "'ps0912':  ps0912,\n",
    "'ps0915':  ps0915,\n",
    "'ps1012':  ps1012,\n",
    "'ps1015':  ps1015 }\n",
    "\n",
    "sio.savemat('c:/tmp/excel_ps_data.mat',dData)"
   ]
  },
  {
   "cell_type": "raw",
   "metadata": {},
   "source": [
    "from scipy import io\n",
    "fmat=io.loadmat('c:/tmp/excel_ps_data.mat');\n",
    "print(fmat)\n",
    "aR=[];\n",
    "aR=fmat['ps0210']\n",
    "print(aR)"
   ]
  },
  {
   "cell_type": "raw",
   "metadata": {},
   "source": [
    "#from julia import Base"
   ]
  },
  {
   "cell_type": "code",
   "execution_count": null,
   "metadata": {},
   "outputs": [],
   "source": []
  },
  {
   "cell_type": "code",
   "execution_count": 9,
   "metadata": {},
   "outputs": [
    {
     "data": {
      "text/plain": [
       "array([0.  , 0.37, 0.74, 1.11, 1.48, 1.85, 2.22, 2.59, 2.96, 3.33, 3.7 ])"
      ]
     },
     "execution_count": 9,
     "metadata": {},
     "output_type": "execute_result"
    }
   ],
   "source": [
    "arange(0,3.8,(3.7/10))"
   ]
  },
  {
   "cell_type": "code",
   "execution_count": 11,
   "metadata": {},
   "outputs": [
    {
     "name": "stderr",
     "output_type": "stream",
     "text": [
      "C:\\myspace\\apps\\compiler\\WinPython\\python-3.7.4.amd64\\lib\\site-packages\\ipykernel_launcher.py:36: DeprecationWarning: time.clock has been deprecated in Python 3.3 and will be removed from Python 3.8: use time.perf_counter or time.process_time instead\n"
     ]
    },
    {
     "name": "stdout",
     "output_type": "stream",
     "text": [
      "Python 실행시간 : 0.374[s]\n",
      "NumPy 실행시간 : 0.049[s]\n",
      "Numba 실행시간 : 0.014[s]\n"
     ]
    },
    {
     "name": "stderr",
     "output_type": "stream",
     "text": [
      "C:\\myspace\\apps\\compiler\\WinPython\\python-3.7.4.amd64\\lib\\site-packages\\ipykernel_launcher.py:38: DeprecationWarning: time.clock has been deprecated in Python 3.3 and will be removed from Python 3.8: use time.perf_counter or time.process_time instead\n",
      "C:\\myspace\\apps\\compiler\\WinPython\\python-3.7.4.amd64\\lib\\site-packages\\ipykernel_launcher.py:39: DeprecationWarning: time.clock has been deprecated in Python 3.3 and will be removed from Python 3.8: use time.perf_counter or time.process_time instead\n",
      "C:\\myspace\\apps\\compiler\\WinPython\\python-3.7.4.amd64\\lib\\site-packages\\ipykernel_launcher.py:41: DeprecationWarning: time.clock has been deprecated in Python 3.3 and will be removed from Python 3.8: use time.perf_counter or time.process_time instead\n",
      "C:\\myspace\\apps\\compiler\\WinPython\\python-3.7.4.amd64\\lib\\site-packages\\ipykernel_launcher.py:42: DeprecationWarning: time.clock has been deprecated in Python 3.3 and will be removed from Python 3.8: use time.perf_counter or time.process_time instead\n",
      "C:\\myspace\\apps\\compiler\\WinPython\\python-3.7.4.amd64\\lib\\site-packages\\ipykernel_launcher.py:44: DeprecationWarning: time.clock has been deprecated in Python 3.3 and will be removed from Python 3.8: use time.perf_counter or time.process_time instead\n"
     ]
    }
   ],
   "source": [
    "from numba import jit\n",
    "from pylab import *\n",
    "import time\n",
    "\n",
    "\n",
    "\n",
    "def mult_abs_basic(n, x, y):\n",
    "    r = []\n",
    "    for i in range(n):\n",
    "        r.append(abs(x[i] * y[i]))\n",
    "    return r\n",
    "\n",
    "\n",
    "def mult_abs_numpy(x, y):\n",
    "    return np.abs(x*y)\n",
    "\n",
    "\n",
    "# @jit 데코레이터를 이용한 속도 향상\n",
    "@jit('f8[:](i8, c16[:], c16[:])', nopython=True)\n",
    "def mult_abs_numba(n, x, y):\n",
    "    r = np.zeros(n)\n",
    "    for i in range(n):\n",
    "        r[i] = abs(x[i] * y[i])\n",
    "    return r\n",
    "\n",
    "\n",
    "if __name__ == \"__main__\":\n",
    "    # %% 처리할 데이터를 만듬\n",
    "    N = 1000000\n",
    "    x_np = (np.random.rand(N) - 0.5) + 1J * (np.random.rand(N) - 0.5)\n",
    "    y_np = (np.random.rand(N) - 0.5) + 1J * (np.random.rand(N) - 0.5)\n",
    "    x = list(x_np)\n",
    "    y = list(y_np)\n",
    "\n",
    "    # %% 실행시간 비교\n",
    "    ts = time.clock()\n",
    "    b1 = mult_abs_basic(N, x, y)\n",
    "    print('Python 실행시간 : {0:0.3f}[s]'.format(time.clock() - ts))\n",
    "    ts = time.clock()\n",
    "    b1 = mult_abs_numpy(x_np, y_np)\n",
    "    print('NumPy 실행시간 : {0:0.3f}[s]'.format(time.clock() - ts))\n",
    "    ts = time.clock()\n",
    "    b1 = mult_abs_numba(N, x_np, y_np)\n",
    "    print('Numba 실행시간 : {0:0.3f}[s]'.format(time.clock() - ts))\n",
    "            "
   ]
  },
  {
   "cell_type": "code",
   "execution_count": null,
   "metadata": {},
   "outputs": [],
   "source": []
  },
  {
   "cell_type": "code",
   "execution_count": null,
   "metadata": {},
   "outputs": [],
   "source": []
  }
 ],
 "metadata": {
  "kernelspec": {
   "display_name": "Python 3",
   "language": "python",
   "name": "python3"
  },
  "language_info": {
   "codemirror_mode": {
    "name": "ipython",
    "version": 3
   },
   "file_extension": ".py",
   "mimetype": "text/x-python",
   "name": "python",
   "nbconvert_exporter": "python",
   "pygments_lexer": "ipython3",
   "version": "3.7.4"
  }
 },
 "nbformat": 4,
 "nbformat_minor": 4
}
